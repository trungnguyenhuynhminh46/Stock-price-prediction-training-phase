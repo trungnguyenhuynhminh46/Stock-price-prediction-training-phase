{
 "cells": [
  {
   "cell_type": "markdown",
   "id": "3ca5b9fd",
   "metadata": {},
   "source": [
    "# Tải thư viện"
   ]
  },
  {
   "cell_type": "code",
   "execution_count": 1,
   "id": "c951c960",
   "metadata": {},
   "outputs": [],
   "source": [
    "import time\n",
    "\n",
    "import numpy as np\n",
    "import pandas as pd\n",
    "import matplotlib.pyplot as plt\n",
    "import seaborn as sns\n",
    "import math\n",
    "\n",
    "import tensorflow as tf\n",
    "from keras.models import Sequential\n",
    "from keras.layers import Dense\n",
    "from keras.layers import GRU\n",
    "from keras.layers import Dropout\n",
    "from keras.layers import SimpleRNN\n",
    "\n",
    "from keras.optimizers import Adam\n",
    "\n",
    "from sklearn.preprocessing import MinMaxScaler\n",
    "from sklearn.preprocessing import StandardScaler\n",
    "from sklearn.metrics import mean_squared_error\n",
    "\n",
    "import pandas_datareader.data as web"
   ]
  },
  {
   "cell_type": "markdown",
   "id": "9d741ebc",
   "metadata": {},
   "source": [
    "# Lấy và xử lý dữ liệu"
   ]
  },
  {
   "cell_type": "code",
   "execution_count": 2,
   "id": "078b1378",
   "metadata": {},
   "outputs": [],
   "source": [
    "raw_data = web.DataReader('ACAD',data_source=\"yahoo\",start=\"01/01/2005\",end=\"01/01/2019\").dropna()"
   ]
  },
  {
   "cell_type": "code",
   "execution_count": 3,
   "id": "732b1886",
   "metadata": {},
   "outputs": [
    {
     "data": {
      "text/html": [
       "<div>\n",
       "<style scoped>\n",
       "    .dataframe tbody tr th:only-of-type {\n",
       "        vertical-align: middle;\n",
       "    }\n",
       "\n",
       "    .dataframe tbody tr th {\n",
       "        vertical-align: top;\n",
       "    }\n",
       "\n",
       "    .dataframe thead th {\n",
       "        text-align: right;\n",
       "    }\n",
       "</style>\n",
       "<table border=\"1\" class=\"dataframe\">\n",
       "  <thead>\n",
       "    <tr style=\"text-align: right;\">\n",
       "      <th></th>\n",
       "      <th>High</th>\n",
       "      <th>Low</th>\n",
       "      <th>Open</th>\n",
       "      <th>Close</th>\n",
       "      <th>Volume</th>\n",
       "      <th>Adj Close</th>\n",
       "    </tr>\n",
       "  </thead>\n",
       "  <tbody>\n",
       "    <tr>\n",
       "      <th>count</th>\n",
       "      <td>3524.000000</td>\n",
       "      <td>3524.000000</td>\n",
       "      <td>3524.000000</td>\n",
       "      <td>3524.000000</td>\n",
       "      <td>3.524000e+03</td>\n",
       "      <td>3524.000000</td>\n",
       "    </tr>\n",
       "    <tr>\n",
       "      <th>mean</th>\n",
       "      <td>14.928039</td>\n",
       "      <td>14.196084</td>\n",
       "      <td>14.572279</td>\n",
       "      <td>14.556084</td>\n",
       "      <td>1.232710e+06</td>\n",
       "      <td>14.556084</td>\n",
       "    </tr>\n",
       "    <tr>\n",
       "      <th>std</th>\n",
       "      <td>12.755855</td>\n",
       "      <td>12.201520</td>\n",
       "      <td>12.488761</td>\n",
       "      <td>12.481751</td>\n",
       "      <td>2.279983e+06</td>\n",
       "      <td>12.481751</td>\n",
       "    </tr>\n",
       "    <tr>\n",
       "      <th>min</th>\n",
       "      <td>0.690000</td>\n",
       "      <td>0.650000</td>\n",
       "      <td>0.650000</td>\n",
       "      <td>0.660000</td>\n",
       "      <td>5.000000e+02</td>\n",
       "      <td>0.660000</td>\n",
       "    </tr>\n",
       "    <tr>\n",
       "      <th>25%</th>\n",
       "      <td>2.040000</td>\n",
       "      <td>1.880000</td>\n",
       "      <td>1.960000</td>\n",
       "      <td>1.950000</td>\n",
       "      <td>1.996750e+05</td>\n",
       "      <td>1.950000</td>\n",
       "    </tr>\n",
       "    <tr>\n",
       "      <th>50%</th>\n",
       "      <td>11.095000</td>\n",
       "      <td>10.615000</td>\n",
       "      <td>10.910000</td>\n",
       "      <td>10.870000</td>\n",
       "      <td>6.895000e+05</td>\n",
       "      <td>10.870000</td>\n",
       "    </tr>\n",
       "    <tr>\n",
       "      <th>75%</th>\n",
       "      <td>24.985000</td>\n",
       "      <td>23.752500</td>\n",
       "      <td>24.382499</td>\n",
       "      <td>24.309999</td>\n",
       "      <td>1.584475e+06</td>\n",
       "      <td>24.309999</td>\n",
       "    </tr>\n",
       "    <tr>\n",
       "      <th>max</th>\n",
       "      <td>51.990002</td>\n",
       "      <td>49.700001</td>\n",
       "      <td>50.759998</td>\n",
       "      <td>50.099998</td>\n",
       "      <td>6.010610e+07</td>\n",
       "      <td>50.099998</td>\n",
       "    </tr>\n",
       "  </tbody>\n",
       "</table>\n",
       "</div>"
      ],
      "text/plain": [
       "              High          Low         Open        Close        Volume  \\\n",
       "count  3524.000000  3524.000000  3524.000000  3524.000000  3.524000e+03   \n",
       "mean     14.928039    14.196084    14.572279    14.556084  1.232710e+06   \n",
       "std      12.755855    12.201520    12.488761    12.481751  2.279983e+06   \n",
       "min       0.690000     0.650000     0.650000     0.660000  5.000000e+02   \n",
       "25%       2.040000     1.880000     1.960000     1.950000  1.996750e+05   \n",
       "50%      11.095000    10.615000    10.910000    10.870000  6.895000e+05   \n",
       "75%      24.985000    23.752500    24.382499    24.309999  1.584475e+06   \n",
       "max      51.990002    49.700001    50.759998    50.099998  6.010610e+07   \n",
       "\n",
       "         Adj Close  \n",
       "count  3524.000000  \n",
       "mean     14.556084  \n",
       "std      12.481751  \n",
       "min       0.660000  \n",
       "25%       1.950000  \n",
       "50%      10.870000  \n",
       "75%      24.309999  \n",
       "max      50.099998  "
      ]
     },
     "execution_count": 3,
     "metadata": {},
     "output_type": "execute_result"
    }
   ],
   "source": [
    "raw_data.describe()"
   ]
  },
  {
   "cell_type": "code",
   "execution_count": 4,
   "id": "3474be8e",
   "metadata": {},
   "outputs": [
    {
     "name": "stdout",
     "output_type": "stream",
     "text": [
      "(3524, 1)             Close\n",
      "Date             \n",
      "2004-12-31   6.77\n",
      "2005-01-03   6.39\n",
      "2005-01-04   6.28\n",
      "2005-01-05   6.26\n",
      "2005-01-06   6.34\n"
     ]
    },
    {
     "data": {
      "image/png": "[encoded data removed]",
      "text/plain": [
       "<Figure size 640x480 with 1 Axes>"
      ]
     },
     "metadata": {},
     "output_type": "display_data"
    }
   ],
   "source": [
    "df = raw_data.dropna()\n",
    "df = df[['Open', 'High', 'Low', 'Close']]\n",
    "df = df[['Close']]\n",
    "first_price = df.Close.iloc[0]\n",
    "print(df.shape, df.head())\n",
    "\n",
    "df.Close.plot()\n",
    "def create_ds(ds, look_back):\n",
    "    dataX, dataY = [], []\n",
    "    for i in range(len(ds)-look_back-1): \n",
    "        data = ds[i:(i+look_back), 0]      \n",
    "        dataX.append(data)\n",
    "        dataY.append(ds[i + look_back, 0]) \n",
    "    return np.array(dataX), np.array(dataY)\n",
    "\n",
    "ds = df.values\n",
    "ds = ds.astype('float32')\n",
    "\n",
    "scaler = MinMaxScaler(feature_range=(0, 1))\n",
    "ds = scaler.fit_transform(ds)"
   ]
  },
  {
   "cell_type": "markdown",
   "id": "a8d2df85",
   "metadata": {},
   "source": [
    "## Tách ds thành các tập train và test"
   ]
  },
  {
   "cell_type": "code",
   "execution_count": 5,
   "id": "7811aa6d",
   "metadata": {},
   "outputs": [],
   "source": [
    "#  Chia tập train và tập test theo ty lệ 8 - 2\n",
    "train_size = int(len(ds) * 0.85)\n",
    "test_size = len(ds) - train_size\n",
    "train, test = ds[0:train_size,:], ds[train_size:len(ds)+1,:]"
   ]
  },
  {
   "cell_type": "code",
   "execution_count": 6,
   "id": "21a83a6f",
   "metadata": {},
   "outputs": [],
   "source": [
    "look_back = 10\n",
    "trainX, trainY = create_ds(train, look_back)\n",
    "testX, testY = create_ds(test, look_back)\n",
    "\n",
    "trainX = np.reshape(trainX, (trainX.shape[0], trainX.shape[1], 1))\n",
    "testX = np.reshape(testX, (testX.shape[0], testX.shape[1], 1))"
   ]
  },
  {
   "cell_type": "markdown",
   "id": "e917d5b2",
   "metadata": {},
   "source": [
    "## Xây dựng model"
   ]
  },
  {
   "cell_type": "code",
   "execution_count": 7,
   "id": "3d126641",
   "metadata": {},
   "outputs": [],
   "source": [
    "model = Sequential()\n",
    "\n",
    "model.add(SimpleRNN(units = 50, activation = \"tanh\", return_sequences = True, input_shape = (look_back,1)))\n",
    "# model.add(Dropout(0.3))\n",
    "model.add(SimpleRNN(units = 50, activation = \"tanh\", return_sequences = True))\n",
    "# model.add(Dropout(0.2))\n",
    "# model.add(SimpleRNN(units = 50, activation = \"tanh\", return_sequences = True))\n",
    "# model.add(Dropout(0.1))\n",
    "# model.add(SimpleRNN(units = 50))\n",
    "model.add(Dense(units = 1))"
   ]
  },
  {
   "cell_type": "code",
   "execution_count": 8,
   "id": "e19b01ae",
   "metadata": {},
   "outputs": [
    {
     "name": "stdout",
     "output_type": "stream",
     "text": [
      "Epoch 1/50\n",
      "80/80 [==============================] - 1s 5ms/step - loss: 0.0395 - val_loss: 0.2388\n",
      "Epoch 2/50\n",
      "80/80 [==============================] - 0s 3ms/step - loss: 0.0303 - val_loss: 0.2780\n",
      "Epoch 3/50\n",
      "80/80 [==============================] - 0s 3ms/step - loss: 0.0290 - val_loss: 0.2587\n",
      "Epoch 4/50\n",
      "80/80 [==============================] - 0s 3ms/step - loss: 0.0287 - val_loss: 0.2626\n",
      "Epoch 5/50\n",
      "80/80 [==============================] - 0s 2ms/step - loss: 0.0285 - val_loss: 0.2416\n",
      "Epoch 6/50\n",
      "80/80 [==============================] - 0s 2ms/step - loss: 0.0284 - val_loss: 0.2778\n",
      "Epoch 7/50\n",
      "80/80 [==============================] - 0s 3ms/step - loss: 0.0284 - val_loss: 0.2434\n",
      "Epoch 8/50\n",
      "80/80 [==============================] - 0s 3ms/step - loss: 0.0283 - val_loss: 0.2397\n",
      "Epoch 9/50\n",
      "80/80 [==============================] - 0s 2ms/step - loss: 0.0284 - val_loss: 0.2515\n",
      "Epoch 10/50\n",
      "80/80 [==============================] - 0s 3ms/step - loss: 0.0282 - val_loss: 0.2691\n",
      "Epoch 11/50\n",
      "80/80 [==============================] - 0s 2ms/step - loss: 0.0282 - val_loss: 0.2474\n",
      "Epoch 12/50\n",
      "80/80 [==============================] - 0s 2ms/step - loss: 0.0283 - val_loss: 0.2457\n",
      "Epoch 13/50\n",
      "80/80 [==============================] - 0s 2ms/step - loss: 0.0283 - val_loss: 0.2380\n",
      "Epoch 14/50\n",
      "80/80 [==============================] - 0s 2ms/step - loss: 0.0282 - val_loss: 0.2563\n",
      "Epoch 15/50\n",
      "80/80 [==============================] - 0s 2ms/step - loss: 0.0283 - val_loss: 0.2397\n",
      "Epoch 16/50\n",
      "80/80 [==============================] - 0s 3ms/step - loss: 0.0282 - val_loss: 0.2710\n",
      "Epoch 17/50\n",
      "80/80 [==============================] - 0s 3ms/step - loss: 0.0282 - val_loss: 0.2448\n",
      "Epoch 18/50\n",
      "80/80 [==============================] - 0s 2ms/step - loss: 0.0283 - val_loss: 0.2519\n",
      "Epoch 19/50\n",
      "80/80 [==============================] - 0s 2ms/step - loss: 0.0282 - val_loss: 0.2750\n",
      "Epoch 20/50\n",
      "80/80 [==============================] - 0s 3ms/step - loss: 0.0283 - val_loss: 0.2550\n",
      "Epoch 21/50\n",
      "80/80 [==============================] - 0s 3ms/step - loss: 0.0283 - val_loss: 0.2590\n",
      "Epoch 22/50\n",
      "80/80 [==============================] - 0s 3ms/step - loss: 0.0282 - val_loss: 0.2419\n",
      "Epoch 23/50\n",
      "80/80 [==============================] - 0s 3ms/step - loss: 0.0282 - val_loss: 0.2617\n",
      "Epoch 24/50\n",
      "80/80 [==============================] - 0s 3ms/step - loss: 0.0282 - val_loss: 0.2667\n",
      "Epoch 25/50\n",
      "80/80 [==============================] - 0s 2ms/step - loss: 0.0282 - val_loss: 0.2789\n",
      "Epoch 26/50\n",
      "80/80 [==============================] - 0s 3ms/step - loss: 0.0283 - val_loss: 0.2438\n",
      "Epoch 27/50\n",
      "80/80 [==============================] - 0s 2ms/step - loss: 0.0282 - val_loss: 0.2250\n",
      "Epoch 28/50\n",
      "80/80 [==============================] - 0s 2ms/step - loss: 0.0283 - val_loss: 0.2472\n",
      "Epoch 29/50\n",
      "80/80 [==============================] - 0s 2ms/step - loss: 0.0283 - val_loss: 0.2741\n",
      "Epoch 30/50\n",
      "80/80 [==============================] - 0s 2ms/step - loss: 0.0282 - val_loss: 0.2601\n",
      "Epoch 31/50\n",
      "80/80 [==============================] - 0s 3ms/step - loss: 0.0282 - val_loss: 0.2737\n",
      "Epoch 32/50\n",
      "80/80 [==============================] - 0s 3ms/step - loss: 0.0283 - val_loss: 0.2581\n",
      "Epoch 33/50\n",
      "80/80 [==============================] - 0s 3ms/step - loss: 0.0283 - val_loss: 0.2631\n",
      "Epoch 34/50\n",
      "80/80 [==============================] - 0s 2ms/step - loss: 0.0282 - val_loss: 0.2374\n",
      "Epoch 35/50\n",
      "80/80 [==============================] - 0s 2ms/step - loss: 0.0283 - val_loss: 0.2614\n",
      "Epoch 36/50\n",
      "80/80 [==============================] - 0s 3ms/step - loss: 0.0282 - val_loss: 0.2495\n",
      "Epoch 37/50\n",
      "80/80 [==============================] - 0s 3ms/step - loss: 0.0282 - val_loss: 0.2695\n",
      "Epoch 38/50\n",
      "80/80 [==============================] - 0s 3ms/step - loss: 0.0282 - val_loss: 0.2598\n",
      "Epoch 39/50\n",
      "80/80 [==============================] - 0s 2ms/step - loss: 0.0283 - val_loss: 0.2534\n",
      "Epoch 40/50\n",
      "80/80 [==============================] - 0s 2ms/step - loss: 0.0282 - val_loss: 0.2618\n",
      "Epoch 41/50\n",
      "80/80 [==============================] - 0s 2ms/step - loss: 0.0282 - val_loss: 0.2663\n",
      "Epoch 42/50\n",
      "80/80 [==============================] - 0s 3ms/step - loss: 0.0282 - val_loss: 0.2459\n",
      "Epoch 43/50\n",
      "80/80 [==============================] - 0s 2ms/step - loss: 0.0282 - val_loss: 0.2614\n",
      "Epoch 44/50\n",
      "80/80 [==============================] - 0s 2ms/step - loss: 0.0282 - val_loss: 0.2584\n",
      "Epoch 45/50\n",
      "80/80 [==============================] - 0s 2ms/step - loss: 0.0282 - val_loss: 0.2693\n",
      "Epoch 46/50\n",
      "80/80 [==============================] - 0s 3ms/step - loss: 0.0282 - val_loss: 0.2768\n",
      "Epoch 47/50\n",
      "80/80 [==============================] - 0s 3ms/step - loss: 0.0282 - val_loss: 0.2483\n",
      "Epoch 48/50\n",
      "80/80 [==============================] - 0s 3ms/step - loss: 0.0282 - val_loss: 0.2589\n",
      "Epoch 49/50\n",
      "80/80 [==============================] - 0s 2ms/step - loss: 0.0282 - val_loss: 0.2598\n",
      "Epoch 50/50\n",
      "80/80 [==============================] - 0s 3ms/step - loss: 0.0282 - val_loss: 0.2550\n",
      "Thời gian huấn luyện:  11.56489610671997\n",
      "Model: \"sequential\"\n",
      "_________________________________________________________________\n",
      " Layer (type)                Output Shape              Param #   \n",
      "=================================================================\n",
      " simple_rnn (SimpleRNN)      (None, 10, 50)            2600      \n",
      "                                                                 \n",
      " dense (Dense)               (None, 10, 1)             51        \n",
      "                                                                 \n",
      "=================================================================\n",
      "Total params: 2,651\n",
      "Trainable params: 2,651\n",
      "Non-trainable params: 0\n",
      "_________________________________________________________________\n"
     ]
    }
   ],
   "source": [
    "opt = Adam(learning_rate=0.0001)\n",
    "model.compile(optimizer= opt, loss = \"mean_squared_error\")\n",
    "start = time.time()\n",
    "history = model.fit(trainX, trainY, epochs = 50 , batch_size= 32, shuffle=True ,validation_split = 0.15)\n",
    "print('Thời gian huấn luyện: ', time.time() - start)\n",
    "model.summary()"
   ]
  },
  {
   "cell_type": "markdown",
   "id": "5f8eeca4",
   "metadata": {},
   "source": [
    "## Sử dụng model để dự đoán kết quả"
   ]
  },
  {
   "cell_type": "code",
   "execution_count": 9,
   "id": "d39e9595",
   "metadata": {},
   "outputs": [
    {
     "name": "stdout",
     "output_type": "stream",
     "text": [
      "94/94 [==============================] - 0s 1ms/step\n",
      "17/17 [==============================] - 0s 1ms/step\n"
     ]
    },
    {
     "ename": "ValueError",
     "evalue": "Found array with dim 3. Estimator expected <= 2.",
     "output_type": "error",
     "traceback": [
      "\u001b[1;31m---------------------------------------------------------------------------\u001b[0m",
      "\u001b[1;31mValueError\u001b[0m                                Traceback (most recent call last)",
      "\u001b[1;32m~\\AppData\\Local\\Temp\\ipykernel_344\\2036503258.py\u001b[0m in \u001b[0;36m<module>\u001b[1;34m\u001b[0m\n\u001b[0;32m      2\u001b[0m \u001b[0mtestPredict\u001b[0m \u001b[1;33m=\u001b[0m \u001b[0mmodel\u001b[0m\u001b[1;33m.\u001b[0m\u001b[0mpredict\u001b[0m\u001b[1;33m(\u001b[0m\u001b[0mtestX\u001b[0m\u001b[1;33m)\u001b[0m\u001b[1;33m\u001b[0m\u001b[1;33m\u001b[0m\u001b[0m\n\u001b[0;32m      3\u001b[0m \u001b[1;33m\u001b[0m\u001b[0m\n\u001b[1;32m----> 4\u001b[1;33m \u001b[0mtrainPredict\u001b[0m \u001b[1;33m=\u001b[0m \u001b[0mscaler\u001b[0m\u001b[1;33m.\u001b[0m\u001b[0minverse_transform\u001b[0m\u001b[1;33m(\u001b[0m\u001b[0mtrainPredict\u001b[0m\u001b[1;33m)\u001b[0m\u001b[1;33m\u001b[0m\u001b[1;33m\u001b[0m\u001b[0m\n\u001b[0m\u001b[0;32m      5\u001b[0m \u001b[0mtrainY\u001b[0m \u001b[1;33m=\u001b[0m \u001b[0mscaler\u001b[0m\u001b[1;33m.\u001b[0m\u001b[0minverse_transform\u001b[0m\u001b[1;33m(\u001b[0m\u001b[1;33m[\u001b[0m\u001b[0mtrainY\u001b[0m\u001b[1;33m]\u001b[0m\u001b[1;33m)\u001b[0m\u001b[1;33m\u001b[0m\u001b[1;33m\u001b[0m\u001b[0m\n\u001b[0;32m      6\u001b[0m \u001b[0mtestPredict\u001b[0m \u001b[1;33m=\u001b[0m \u001b[0mscaler\u001b[0m\u001b[1;33m.\u001b[0m\u001b[0minverse_transform\u001b[0m\u001b[1;33m(\u001b[0m\u001b[0mtestPredict\u001b[0m\u001b[1;33m)\u001b[0m\u001b[1;33m\u001b[0m\u001b[1;33m\u001b[0m\u001b[0m\n",
      "\u001b[1;32m~\\anaconda3\\lib\\site-packages\\sklearn\\preprocessing\\_data.py\u001b[0m in \u001b[0;36minverse_transform\u001b[1;34m(self, X)\u001b[0m\n\u001b[0;32m    523\u001b[0m         \u001b[0mcheck_is_fitted\u001b[0m\u001b[1;33m(\u001b[0m\u001b[0mself\u001b[0m\u001b[1;33m)\u001b[0m\u001b[1;33m\u001b[0m\u001b[1;33m\u001b[0m\u001b[0m\n\u001b[0;32m    524\u001b[0m \u001b[1;33m\u001b[0m\u001b[0m\n\u001b[1;32m--> 525\u001b[1;33m         X = check_array(\n\u001b[0m\u001b[0;32m    526\u001b[0m             \u001b[0mX\u001b[0m\u001b[1;33m,\u001b[0m \u001b[0mcopy\u001b[0m\u001b[1;33m=\u001b[0m\u001b[0mself\u001b[0m\u001b[1;33m.\u001b[0m\u001b[0mcopy\u001b[0m\u001b[1;33m,\u001b[0m \u001b[0mdtype\u001b[0m\u001b[1;33m=\u001b[0m\u001b[0mFLOAT_DTYPES\u001b[0m\u001b[1;33m,\u001b[0m \u001b[0mforce_all_finite\u001b[0m\u001b[1;33m=\u001b[0m\u001b[1;34m\"allow-nan\"\u001b[0m\u001b[1;33m\u001b[0m\u001b[1;33m\u001b[0m\u001b[0m\n\u001b[0;32m    527\u001b[0m         )\n",
      "\u001b[1;32m~\\anaconda3\\lib\\site-packages\\sklearn\\utils\\validation.py\u001b[0m in \u001b[0;36mcheck_array\u001b[1;34m(array, accept_sparse, accept_large_sparse, dtype, order, copy, force_all_finite, ensure_2d, allow_nd, ensure_min_samples, ensure_min_features, estimator)\u001b[0m\n\u001b[0;32m    792\u001b[0m                 ) from e\n\u001b[0;32m    793\u001b[0m         \u001b[1;32mif\u001b[0m \u001b[1;32mnot\u001b[0m \u001b[0mallow_nd\u001b[0m \u001b[1;32mand\u001b[0m \u001b[0marray\u001b[0m\u001b[1;33m.\u001b[0m\u001b[0mndim\u001b[0m \u001b[1;33m>=\u001b[0m \u001b[1;36m3\u001b[0m\u001b[1;33m:\u001b[0m\u001b[1;33m\u001b[0m\u001b[1;33m\u001b[0m\u001b[0m\n\u001b[1;32m--> 794\u001b[1;33m             raise ValueError(\n\u001b[0m\u001b[0;32m    795\u001b[0m                 \u001b[1;34m\"Found array with dim %d. %s expected <= 2.\"\u001b[0m\u001b[1;33m\u001b[0m\u001b[1;33m\u001b[0m\u001b[0m\n\u001b[0;32m    796\u001b[0m                 \u001b[1;33m%\u001b[0m \u001b[1;33m(\u001b[0m\u001b[0marray\u001b[0m\u001b[1;33m.\u001b[0m\u001b[0mndim\u001b[0m\u001b[1;33m,\u001b[0m \u001b[0mestimator_name\u001b[0m\u001b[1;33m)\u001b[0m\u001b[1;33m\u001b[0m\u001b[1;33m\u001b[0m\u001b[0m\n",
      "\u001b[1;31mValueError\u001b[0m: Found array with dim 3. Estimator expected <= 2."
     ]
    }
   ],
   "source": [
    "trainPredict = model.predict(trainX)\n",
    "testPredict = model.predict(testX)\n",
    "\n",
    "trainPredict = scaler.inverse_transform(trainPredict)\n",
    "trainY = scaler.inverse_transform([trainY])\n",
    "testPredict = scaler.inverse_transform(testPredict)\n",
    "testY = scaler.inverse_transform([testY])\n",
    "\n",
    "trainScore = math.sqrt(mean_squared_error(trainY[0], trainPredict[:,0]))\n",
    "print('Chỉ số tập train: %.3f RMSE' % (trainScore))\n",
    "testScore = math.sqrt(mean_squared_error(testY[0], testPredict[:,0]))\n",
    "print('Chỉ số tập test: %.3f RMSE' % (testScore))"
   ]
  },
  {
   "cell_type": "markdown",
   "id": "4b0cfbbe",
   "metadata": {},
   "source": [
    "## Đồ Thị biểu thị kết quả dự đoán"
   ]
  },
  {
   "cell_type": "code",
   "execution_count": null,
   "id": "26c48433",
   "metadata": {},
   "outputs": [],
   "source": [
    "trainPredictPlot = np.empty_like(ds)\n",
    "trainPredictPlot[:, :] = np.nan\n",
    "trainPredictPlot[look_back:len(trainPredict)+look_back, :] = trainPredict\n",
    "\n",
    "testPredictPlot = np.empty_like(ds)\n",
    "testPredictPlot[:, :] = np.nan\n",
    "testPredictPlot[len(trainPredict)+(look_back*2)+1:len(ds)-1, :] = testPredict\n",
    "\n",
    "plt.style.use('ggplot')\n",
    "plt.figure(figsize=(13,7), dpi=110)\n",
    "plt.grid(color='grey', linestyle='dashed')\n",
    "plt.xlabel('Observations')\n",
    "plt.ylabel('IBM',rotation=90)\n",
    "plt.plot(scaler.inverse_transform(ds), label = 'Actual Closing Prices', linewidth = 1.2, color = 'c')\n",
    "plt.plot(trainPredictPlot, label = 'A.I. Train Data Price Predictions_After fit', linewidth = 0.9, color = 'k')\n",
    "plt.plot(testPredictPlot, label = 'A.I. Test Data Price Predictions', linewidth = 0.9, color = 'r')\n",
    "legend = plt.legend(fontsize = 12,frameon = True)\n",
    "legend.get_frame().set_edgecolor('b')\n",
    "legend.get_frame().set_linewidth(0.4)\n",
    "\n",
    "plt.show()"
   ]
  },
  {
   "cell_type": "code",
   "execution_count": null,
   "id": "2e5d05d2",
   "metadata": {},
   "outputs": [],
   "source": [
    "# model.save('rnn_model.h5')"
   ]
  },
  {
   "cell_type": "code",
   "execution_count": null,
   "id": "487180cc",
   "metadata": {},
   "outputs": [],
   "source": []
  }
 ],
 "metadata": {
  "kernelspec": {
   "display_name": "Python 3 (ipykernel)",
   "language": "python",
   "name": "python3"
  },
  "language_info": {
   "codemirror_mode": {
    "name": "ipython",
    "version": 3
   },
   "file_extension": ".py",
   "mimetype": "text/x-python",
   "name": "python",
   "nbconvert_exporter": "python",
   "pygments_lexer": "ipython3",
   "version": "3.9.13"
  }
 },
 "nbformat": 4,
 "nbformat_minor": 5
}
